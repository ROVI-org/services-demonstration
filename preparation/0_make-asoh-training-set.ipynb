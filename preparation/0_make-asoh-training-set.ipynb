{
 "cells": [
  {
   "cell_type": "markdown",
   "id": "1dd3327a-1dca-40c6-8c9f-a0ab917cbdd7",
   "metadata": {},
   "source": [
    "# Get ASOH Data for All CAMP Cells\n",
    "We'll use the CAMP data for now"
   ]
  },
  {
   "cell_type": "code",
   "execution_count": 5,
   "id": "f9a91f0d-d0e9-46e0-b992-6d0501ba5e9f",
   "metadata": {},
   "outputs": [],
   "source": [
    "from moirae.interface.hdf5 import HDF5Writer\n",
    "from moirae.interface import run_online_estimate\n",
    "from moirae.extractors.ecm import MaxCapacityExtractor, OCVExtractor\n",
    "from battdat.data import CellDataset\n",
    "from roviweb.online import load_estimator\n",
    "from pathlib import Path\n",
    "from tqdm import tqdm\n",
    "import numpy as np\n",
    "import warnings"
   ]
  },
  {
   "cell_type": "code",
   "execution_count": 6,
   "id": "dd35c49d-592e-4d45-9bee-631bec2c5a84",
   "metadata": {},
   "outputs": [],
   "source": [
    "camp_dir = Path('../../publishing-camp-data/data/hdf5/refined')\n",
    "estimator_path = Path('../tests/files/example-estimator.py')\n",
    "write_dir = Path('asoh-estimates')"
   ]
  },
  {
   "cell_type": "code",
   "execution_count": 7,
   "id": "d22468d7-f88c-48eb-bb62-09204eaa299f",
   "metadata": {},
   "outputs": [],
   "source": [
    "write_dir.mkdir(exist_ok=True, parents=True)"
   ]
  },
  {
   "cell_type": "markdown",
   "id": "e55c8b1c-4b6d-44a7-b5a5-5345e512ad6d",
   "metadata": {},
   "source": [
    "# Run State Estimation on All\n",
    "Load a fresh estimator, run estimation storing every cycle, continue"
   ]
  },
  {
   "cell_type": "code",
   "execution_count": 8,
   "id": "bb72e344-03ae-4bdb-bb69-30370a7b0769",
   "metadata": {},
   "outputs": [
    {
     "name": "stderr",
     "output_type": "stream",
     "text": [
      "100%|█████████████████████████████████████████████████████████████████████████████████████████████████████████████████████████████████████████████████████████████████████████████████████████████████████████████████████| 300/300 [5:28:55<00:00, 65.79s/it]\n"
     ]
    }
   ],
   "source": [
    "temp_path = Path('temp.asoh.h5')\n",
    "files = list(camp_dir.rglob('*h5'))\n",
    "for file in tqdm(files):\n",
    "    # Skip if already done\n",
    "    out_path = write_dir / file.with_suffix('.asoh.h5').name\n",
    "    if out_path.exists():\n",
    "        continue\n",
    "\n",
    "    # Estimate the capacity and OCV based on the first few cycles\n",
    "    with warnings.catch_warnings():\n",
    "        warnings.simplefilter('ignore')\n",
    "        data = CellDataset.from_hdf(file)\n",
    "    data.tables['raw_data'] = data.raw_data.query('cycle_number < 10')\n",
    "    q_t = MaxCapacityExtractor().extract(data)\n",
    "\n",
    "    # Load the estimator and update the initial q_t\n",
    "    estimator = load_estimator(estimator_path.read_text(), working_dir=estimator_path.parent)\n",
    "    qt_ind = estimator.state_names.index('q_t.base_values')\n",
    "    estimator.filter.hidden.mean[qt_ind] = q_t.base_values.item()\n",
    "     \n",
    "    # Run and write estimates to temp file\n",
    "    temp_path.unlink(missing_ok=True)\n",
    "    writer = HDF5Writer(hdf5_output=temp_path, \n",
    "                        per_timestep='mean_var',\n",
    "                        per_cycle='full',\n",
    "                        table_options={'complib': 'zlib', 'complevel': 9})\n",
    "    try:\n",
    "        run_online_estimate(file, estimator, output_states=False, hdf5_output=writer)\n",
    "    except np.linalg.LinAlgError:\n",
    "        continue\n",
    "\n",
    "    # Copy temp to true\n",
    "    temp_path.rename(out_path)"
   ]
  },
  {
   "cell_type": "code",
   "execution_count": null,
   "id": "120dcedc-340c-475d-a2ec-5b6add383d82",
   "metadata": {},
   "outputs": [],
   "source": []
  }
 ],
 "metadata": {
  "kernelspec": {
   "display_name": "Python 3 (ipykernel)",
   "language": "python",
   "name": "python3"
  },
  "language_info": {
   "codemirror_mode": {
    "name": "ipython",
    "version": 3
   },
   "file_extension": ".py",
   "mimetype": "text/x-python",
   "name": "python",
   "nbconvert_exporter": "python",
   "pygments_lexer": "ipython3",
   "version": "3.11.11"
  }
 },
 "nbformat": 4,
 "nbformat_minor": 5
}
